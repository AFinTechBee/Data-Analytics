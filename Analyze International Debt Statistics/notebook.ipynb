{
 "cells": [
  {
   "cell_type": "markdown",
   "id": "9041cd2e-a5a6-44dd-acd9-4daae006c067",
   "metadata": {},
   "source": [
    "![](image.jpg)\n",
    "\n",
    "Humans not only take debts to manage necessities. A country may also take debt to manage its economy. For example, infrastructure spending is one costly ingredient required for a country's citizens to lead comfortable lives. The World Bank is the organization that provides debt to countries.\n",
    "\n",
    "In this project, you are going to analyze international debt data collected by The World Bank. The dataset contains information about the amount of debt (in USD) owed by developing countries across several categories. You are going to find the answers to the following questions:\n",
    "\n",
    "- What is the number of distinct countries present in the database?\n",
    "- What country has the highest amount of debt?\n",
    "- What country has the lowest amount of repayments?\n",
    "\n",
    "Below is a description of the table you will be working with:\n",
    "\n",
    "## `international_debt` table\n",
    "\n",
    "| Column | Definition | Data Type |\n",
    "|-|-|-|\n",
    "|country_name|Name of the country|`varchar`|\n",
    "|country_code|Code representing the country|`varchar`|\n",
    "|indicator_name|Description of the debt indicator|`varchar`|\n",
    "|indicator_code|Code representing the debt indicator|`varchar`|\n",
    "|debt|Value of the debt indicator for the given country (in current US dollars)|`float`|\n",
    "\n",
    "You will execute SQL queries to answer three questions, as listed in the instructions."
   ]
  },
  {
   "cell_type": "code",
   "execution_count": 1,
   "id": "63ae86de-f519-4736-a9ab-886f71129cf3",
   "metadata": {
    "customType": "sql",
    "dataFrameVariableName": "num_distinct_countries",
    "executionCancelledAt": null,
    "executionTime": 1114,
    "lastExecutedAt": 1727190979232,
    "lastExecutedByKernel": "d38fd271-3c34-4284-a8ff-7407e425c48a",
    "lastScheduledRunId": null,
    "lastSuccessfullyExecutedCode": "SELECT COUNT (DISTINCT country_name) AS total_distinct_countries\nFROM international_debt;",
    "outputsMetadata": {
     "0": {
      "height": 110,
      "type": "dataFrame"
     }
    },
    "sqlCellMode": "dataFrame",
    "sqlSource": {
     "integrationId": "89e17161-a224-4a8a-846b-0adc0fe7a4b1",
     "integrationType": "postgresql",
     "type": "integration"
    }
   },
   "outputs": [
    {
     "ename": "SyntaxError",
     "evalue": "invalid syntax (2537832203.py, line 1)",
     "output_type": "error",
     "traceback": [
      "\u001b[0;36m  Cell \u001b[0;32mIn[1], line 1\u001b[0;36m\u001b[0m\n\u001b[0;31m    SELECT COUNT (DISTINCT country_name) AS total_distinct_countries\u001b[0m\n\u001b[0m           ^\u001b[0m\n\u001b[0;31mSyntaxError\u001b[0m\u001b[0;31m:\u001b[0m invalid syntax\n"
     ]
    }
   ],
   "source": [
    "SELECT COUNT (DISTINCT country_name) AS total_distinct_countries\n",
    "FROM international_debt;"
   ]
  },
  {
   "cell_type": "code",
   "execution_count": null,
   "id": "8b8afd6e-b2eb-4637-a16f-8671b51e7317",
   "metadata": {
    "customType": "sql",
    "dataFrameVariableName": "highest_debt_country",
    "executionCancelledAt": null,
    "executionTime": 1203,
    "lastExecutedAt": 1727190949308,
    "lastExecutedByKernel": "d38fd271-3c34-4284-a8ff-7407e425c48a",
    "lastScheduledRunId": null,
    "lastSuccessfullyExecutedCode": "SELECT\n   country_name, SUM(debt) AS total_debt\nFROM international_debt\nGROUP BY country_name\nORDER BY total_debt DESC\nLIMIT 1;",
    "outputsMetadata": {
     "0": {
      "height": 110,
      "type": "dataFrame"
     }
    },
    "sqlCellMode": "dataFrame",
    "sqlSource": {
     "integrationId": "89e17161-a224-4a8a-846b-0adc0fe7a4b1",
     "integrationType": "postgresql",
     "type": "integration"
    }
   },
   "outputs": [],
   "source": [
    "SELECT\n",
    "   country_name, SUM(debt) AS total_debt\n",
    "FROM international_debt\n",
    "GROUP BY country_name\n",
    "ORDER BY total_debt DESC\n",
    "LIMIT 1;"
   ]
  },
  {
   "cell_type": "code",
   "execution_count": null,
   "id": "1cdf2f88-7aa0-4702-8422-84098b742be4",
   "metadata": {
    "customType": "sql",
    "dataFrameVariableName": "lowest_principal_repayment",
    "executionCancelledAt": null,
    "executionTime": 983,
    "lastExecutedAt": 1727190950291,
    "lastExecutedByKernel": "d38fd271-3c34-4284-a8ff-7407e425c48a",
    "lastScheduledRunId": null,
    "lastSuccessfullyExecutedCode": "SELECT country_name, indicator_name, MIN(debt) AS lowest_repayment\nFROM public.international_debt\nWHERE indicator_code = 'DT.AMT.DLXF.CD'\nGROUP BY country_name, indicator_name\nORDER BY lowest_repayment\nLIMIT 1;\n\n",
    "outputsMetadata": {
     "0": {
      "height": 110,
      "type": "dataFrame"
     }
    },
    "sqlCellMode": "dataFrame",
    "sqlSource": {
     "integrationId": "89e17161-a224-4a8a-846b-0adc0fe7a4b1",
     "integrationType": "postgresql",
     "type": "integration"
    }
   },
   "outputs": [],
   "source": [
    "SELECT country_name, indicator_name, MIN(debt) AS lowest_repayment\n",
    "FROM public.international_debt\n",
    "WHERE indicator_code = 'DT.AMT.DLXF.CD'\n",
    "GROUP BY country_name, indicator_name\n",
    "ORDER BY lowest_repayment\n",
    "LIMIT 1;\n",
    "\n"
   ]
  }
 ],
 "metadata": {
  "colab": {
   "name": "Welcome to DataCamp Workspaces.ipynb",
   "provenance": []
  },
  "kernelspec": {
   "display_name": "Python 3 (ipykernel)",
   "language": "python",
   "name": "python3"
  },
  "language_info": {
   "codemirror_mode": {
    "name": "ipython",
    "version": 3
   },
   "file_extension": ".py",
   "mimetype": "text/x-python",
   "name": "python",
   "nbconvert_exporter": "python",
   "pygments_lexer": "ipython3",
   "version": "3.12.4"
  }
 },
 "nbformat": 4,
 "nbformat_minor": 5
}
